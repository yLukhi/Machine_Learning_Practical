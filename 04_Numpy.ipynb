{
  "nbformat": 4,
  "nbformat_minor": 0,
  "metadata": {
    "kernelspec": {
      "display_name": "Python 3",
      "language": "python",
      "name": "python3"
    },
    "language_info": {
      "codemirror_mode": {
        "name": "ipython",
        "version": 3
      },
      "file_extension": ".py",
      "mimetype": "text/x-python",
      "name": "python",
      "nbconvert_exporter": "python",
      "pygments_lexer": "ipython3",
      "version": "3.7.2"
    },
    "colab": {
      "name": "Numpy.ipynb",
      "provenance": [],
      "collapsed_sections": [],
      "include_colab_link": true
    }
  },
  "cells": [
    {
      "cell_type": "markdown",
      "metadata": {
        "id": "view-in-github",
        "colab_type": "text"
      },
      "source": [
        "<a href=\"https://colab.research.google.com/github/0701Vatsal/ML_Practicals/blob/main/Numpy.ipynb\" target=\"_parent\"><img src=\"https://colab.research.google.com/assets/colab-badge.svg\" alt=\"Open In Colab\"/></a>"
      ]
    },
    {
      "cell_type": "code",
      "metadata": {
        "colab": {
          "base_uri": "https://localhost:8080/"
        },
        "id": "Ldg_1AxsKrL3",
        "outputId": "33050d3e-30b6-40de-9485-cf2bdc173f97"
      },
      "source": [
        "import numpy as np\n",
        "arr = np.array([10,20,30,40,50])\n",
        "print(arr)"
      ],
      "execution_count": 1,
      "outputs": [
        {
          "output_type": "stream",
          "text": [
            "[10 20 30 40 50]\n"
          ],
          "name": "stdout"
        }
      ]
    },
    {
      "cell_type": "code",
      "metadata": {
        "colab": {
          "base_uri": "https://localhost:8080/"
        },
        "id": "LJk650V3KrMU",
        "outputId": "03f83026-2b9b-4906-a8cb-c0a7d88d41f3"
      },
      "source": [
        "print(np.__version__)"
      ],
      "execution_count": 2,
      "outputs": [
        {
          "output_type": "stream",
          "text": [
            "1.19.5\n"
          ],
          "name": "stdout"
        }
      ]
    },
    {
      "cell_type": "code",
      "metadata": {
        "colab": {
          "base_uri": "https://localhost:8080/"
        },
        "id": "WYJ0cUPUKrMX",
        "outputId": "d3b2c383-9d11-486b-9c51-6aaccb264a27"
      },
      "source": [
        "print(type(arr))"
      ],
      "execution_count": 3,
      "outputs": [
        {
          "output_type": "stream",
          "text": [
            "<class 'numpy.ndarray'>\n"
          ],
          "name": "stdout"
        }
      ]
    },
    {
      "cell_type": "code",
      "metadata": {
        "colab": {
          "base_uri": "https://localhost:8080/"
        },
        "id": "YR_q7sQqKrMZ",
        "outputId": "59f1e9fb-c6ac-47dc-d92d-4669eff7453d"
      },
      "source": [
        "arr1 = np.array(15)\n",
        "print(arr1)"
      ],
      "execution_count": 4,
      "outputs": [
        {
          "output_type": "stream",
          "text": [
            "15\n"
          ],
          "name": "stdout"
        }
      ]
    },
    {
      "cell_type": "code",
      "metadata": {
        "colab": {
          "base_uri": "https://localhost:8080/"
        },
        "id": "pBShOyn_KrMb",
        "outputId": "97fc0640-1fb9-4022-ca1f-b2db2937b38a"
      },
      "source": [
        "arr2 = np.array([[10,20,30,40],[6,7,8,9]])\n",
        "print(arr2)"
      ],
      "execution_count": 5,
      "outputs": [
        {
          "output_type": "stream",
          "text": [
            "[[10 20 30 40]\n",
            " [ 6  7  8  9]]\n"
          ],
          "name": "stdout"
        }
      ]
    },
    {
      "cell_type": "code",
      "metadata": {
        "colab": {
          "base_uri": "https://localhost:8080/"
        },
        "id": "94zJ3tDqKrMd",
        "outputId": "0969e38b-bc7f-48ab-cf9e-12e0b939a68a"
      },
      "source": [
        "arr3 = np.array([[[10,20,30,40],[6,7,8,9]],[[11,12,13],[14,15,16]]])\n",
        "print(arr3)"
      ],
      "execution_count": 6,
      "outputs": [
        {
          "output_type": "stream",
          "text": [
            "[[list([10, 20, 30, 40]) list([6, 7, 8, 9])]\n",
            " [list([11, 12, 13]) list([14, 15, 16])]]\n"
          ],
          "name": "stdout"
        },
        {
          "output_type": "stream",
          "text": [
            "/usr/local/lib/python3.7/dist-packages/ipykernel_launcher.py:1: VisibleDeprecationWarning: Creating an ndarray from ragged nested sequences (which is a list-or-tuple of lists-or-tuples-or ndarrays with different lengths or shapes) is deprecated. If you meant to do this, you must specify 'dtype=object' when creating the ndarray\n",
            "  \"\"\"Entry point for launching an IPython kernel.\n"
          ],
          "name": "stderr"
        }
      ]
    },
    {
      "cell_type": "code",
      "metadata": {
        "colab": {
          "base_uri": "https://localhost:8080/"
        },
        "id": "fuKvqyVXKrMe",
        "outputId": "0bcfe74f-ebb5-42de-c400-2698fa488686"
      },
      "source": [
        "#checking number of dimensions\n",
        "print(arr.ndim)\n",
        "print(arr1.ndim)\n",
        "print(arr2.ndim)\n",
        "print(arr3.ndim)"
      ],
      "execution_count": 7,
      "outputs": [
        {
          "output_type": "stream",
          "text": [
            "1\n",
            "0\n",
            "2\n",
            "2\n"
          ],
          "name": "stdout"
        }
      ]
    },
    {
      "cell_type": "code",
      "metadata": {
        "colab": {
          "base_uri": "https://localhost:8080/"
        },
        "id": "jU9ilgU4KrMg",
        "outputId": "9b912663-9b52-4413-d3d3-d621713e5d70"
      },
      "source": [
        "arr4 =np.array([1,2,3,4],ndmin=4)\n",
        "print(arr4)\n",
        "print(arr.ndim)"
      ],
      "execution_count": 8,
      "outputs": [
        {
          "output_type": "stream",
          "text": [
            "[[[[1 2 3 4]]]]\n",
            "1\n"
          ],
          "name": "stdout"
        }
      ]
    },
    {
      "cell_type": "code",
      "metadata": {
        "colab": {
          "base_uri": "https://localhost:8080/"
        },
        "id": "FUYbI0D6KrMh",
        "outputId": "b2552409-c181-467d-b890-5660f3111edb"
      },
      "source": [
        "print(arr[3])"
      ],
      "execution_count": 9,
      "outputs": [
        {
          "output_type": "stream",
          "text": [
            "40\n"
          ],
          "name": "stdout"
        }
      ]
    },
    {
      "cell_type": "code",
      "metadata": {
        "colab": {
          "base_uri": "https://localhost:8080/"
        },
        "id": "hB_NIPvjKrMj",
        "outputId": "2969d9e7-0fce-4dd1-f81f-38d42724199c"
      },
      "source": [
        "print(arr2[1])"
      ],
      "execution_count": 10,
      "outputs": [
        {
          "output_type": "stream",
          "text": [
            "[6 7 8 9]\n"
          ],
          "name": "stdout"
        }
      ]
    },
    {
      "cell_type": "code",
      "metadata": {
        "colab": {
          "base_uri": "https://localhost:8080/"
        },
        "id": "8DBgCpoHKrMk",
        "outputId": "ec4b954c-6302-418a-ac95-38a9dee5209c"
      },
      "source": [
        "print(arr2[1][1])"
      ],
      "execution_count": 11,
      "outputs": [
        {
          "output_type": "stream",
          "text": [
            "7\n"
          ],
          "name": "stdout"
        }
      ]
    },
    {
      "cell_type": "code",
      "metadata": {
        "colab": {
          "base_uri": "https://localhost:8080/"
        },
        "id": "ZDn1wBtGKrMl",
        "outputId": "2f367fef-9984-4380-d7be-ebafb2108acf"
      },
      "source": [
        "print(arr2[1][2] + arr2[1][2])"
      ],
      "execution_count": 12,
      "outputs": [
        {
          "output_type": "stream",
          "text": [
            "16\n"
          ],
          "name": "stdout"
        }
      ]
    },
    {
      "cell_type": "code",
      "metadata": {
        "colab": {
          "base_uri": "https://localhost:8080/"
        },
        "id": "XpDgZebGKrMm",
        "outputId": "95f26d3a-53ff-440e-d3f7-bba61d7e7684"
      },
      "source": [
        "a = np.array([1,2,3,4,5,6,7,8])\n",
        "print(a[3:])\n",
        "print(a[:3])\n",
        "print(a[:])\n",
        "print(a[-2:])\n",
        "print(a[-3:-1])\n",
        "print(a[2:5])\n",
        "print(a[1:5:2])"
      ],
      "execution_count": 13,
      "outputs": [
        {
          "output_type": "stream",
          "text": [
            "[4 5 6 7 8]\n",
            "[1 2 3]\n",
            "[1 2 3 4 5 6 7 8]\n",
            "[7 8]\n",
            "[6 7]\n",
            "[3 4 5]\n",
            "[2 4]\n"
          ],
          "name": "stdout"
        }
      ]
    },
    {
      "cell_type": "code",
      "metadata": {
        "colab": {
          "base_uri": "https://localhost:8080/"
        },
        "id": "zP-Cile2KrMo",
        "outputId": "04c47665-594e-47f8-af7c-b23e5d1ddcaf"
      },
      "source": [
        "import pandas as pd\n",
        "data = np.array([['','Col1','Col2'],\n",
        "                ['Row1',10,20],\n",
        "                ['Row2',30,40]])\n",
        "                \n",
        "print(pd.DataFrame(data=data[1:,1:],index=data[1:,0],columns=data[0,1:]))"
      ],
      "execution_count": 15,
      "outputs": [
        {
          "output_type": "stream",
          "text": [
            "     Col1 Col2\n",
            "Row1   10   20\n",
            "Row2   30   40\n"
          ],
          "name": "stdout"
        }
      ]
    },
    {
      "cell_type": "code",
      "metadata": {
        "colab": {
          "base_uri": "https://localhost:8080/"
        },
        "id": "jpKrc63OKrMp",
        "outputId": "696b2af9-347c-4ed1-9ebe-5b6d259b5048"
      },
      "source": [
        "# creating the Numpy array \n",
        "array = np.array([[1, 1, 1], [2, 4, 8], [3, 9, 27],  \n",
        "                  [4, 16, 64], [5, 25, 125], [6, 36, 216],  \n",
        "                  [7, 49, 343]]) \n",
        "  \n",
        "# creating a list of index names \n",
        "index_values = ['first', 'second', 'third', \n",
        "                'fourth', 'fifth', 'sixth', 'seventh'] \n",
        "   \n",
        "# creating a list of column names \n",
        "column_values = ['number', 'squares', 'cubes'] \n",
        "  \n",
        "# creating the dataframe \n",
        "df = pd.DataFrame(data = array,  \n",
        "                  index = index_values,  \n",
        "                  columns = column_values) \n",
        "  \n",
        "# displaying the dataframe \n",
        "print(df) "
      ],
      "execution_count": 16,
      "outputs": [
        {
          "output_type": "stream",
          "text": [
            "         number  squares  cubes\n",
            "first         1        1      1\n",
            "second        2        4      8\n",
            "third         3        9     27\n",
            "fourth        4       16     64\n",
            "fifth         5       25    125\n",
            "sixth         6       36    216\n",
            "seventh       7       49    343\n"
          ],
          "name": "stdout"
        }
      ]
    },
    {
      "cell_type": "code",
      "metadata": {
        "id": "CnPtUb9CKrMq"
      },
      "source": [
        ""
      ],
      "execution_count": null,
      "outputs": []
    }
  ]
}