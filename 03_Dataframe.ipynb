{
  "nbformat": 4,
  "nbformat_minor": 0,
  "metadata": {
    "kernelspec": {
      "display_name": "Python 3",
      "language": "python",
      "name": "python3"
    },
    "language_info": {
      "codemirror_mode": {
        "name": "ipython",
        "version": 3
      },
      "file_extension": ".py",
      "mimetype": "text/x-python",
      "name": "python",
      "nbconvert_exporter": "python",
      "pygments_lexer": "ipython3",
      "version": "3.7.2"
    },
    "colab": {
      "name": "Dataframe.ipynb",
      "provenance": [],
      "collapsed_sections": [],
      "include_colab_link": true
    }
  },
  "cells": [
    {
      "cell_type": "markdown",
      "metadata": {
        "id": "view-in-github",
        "colab_type": "text"
      },
      "source": [
        "<a href=\"https://colab.research.google.com/github/0701Vatsal/ML_Practicals/blob/main/Dataframe.ipynb\" target=\"_parent\"><img src=\"https://colab.research.google.com/assets/colab-badge.svg\" alt=\"Open In Colab\"/></a>"
      ]
    },
    {
      "cell_type": "code",
      "metadata": {
        "colab": {
          "base_uri": "https://localhost:8080/"
        },
        "id": "V4bvUdux_6AO",
        "outputId": "5dcdc04e-c6f3-484b-c293-122373c6473b"
      },
      "source": [
        "import pandas as pd\n",
        "x = ['a','b','c','d']\n",
        "df = pd.DataFrame(x,index=['A','B','C','D'])\n",
        "print(df)"
      ],
      "execution_count": null,
      "outputs": [
        {
          "output_type": "stream",
          "text": [
            "   0\n",
            "A  a\n",
            "B  b\n",
            "C  c\n",
            "D  d\n"
          ],
          "name": "stdout"
        }
      ]
    },
    {
      "cell_type": "code",
      "metadata": {
        "colab": {
          "base_uri": "https://localhost:8080/"
        },
        "id": "QmYriJrq_6Au",
        "outputId": "a2ced9a9-b329-435d-e9fa-be6ba0d217f5"
      },
      "source": [
        "data ={'Name':['vatsal','yug','rutul'],'Age':[11,21,31]}\n",
        "df = pd.DataFrame(data)\n",
        "print(df)"
      ],
      "execution_count": null,
      "outputs": [
        {
          "output_type": "stream",
          "text": [
            "     Name  Age\n",
            "0  vatsal   11\n",
            "1     yug   21\n",
            "2   rutul   31\n"
          ],
          "name": "stdout"
        }
      ]
    },
    {
      "cell_type": "code",
      "metadata": {
        "colab": {
          "base_uri": "https://localhost:8080/"
        },
        "id": "qijGaP1E_6Ay",
        "outputId": "36c85a48-3e57-4ae3-fadc-7f35b09c5658"
      },
      "source": [
        "data = {'Name':['Mukesh', 'Ramesh', 'Bhadresh', 'Chandresh'],\n",
        "        'Age':[37, 34, 52, 62],\n",
        "        'Address':['Ahmedabad', 'Gandhinagar', 'Delhi', 'Jaipur'],\n",
        "        'Qualification':['BE', 'ME', 'Bsc', 'BED']}\n",
        "df = pd.DataFrame(data)\n",
        "print(df)"
      ],
      "execution_count": null,
      "outputs": [
        {
          "output_type": "stream",
          "text": [
            "        Name  Age      Address Qualification\n",
            "0     Mukesh   37    Ahmedabad            BE\n",
            "1     Ramesh   34  Gandhinagar            ME\n",
            "2   Bhadresh   52        Delhi           Bsc\n",
            "3  Chandresh   62       Jaipur           BED\n"
          ],
          "name": "stdout"
        }
      ]
    },
    {
      "cell_type": "code",
      "metadata": {
        "colab": {
          "base_uri": "https://localhost:8080/"
        },
        "id": "XZ3Rzir-_6A0",
        "outputId": "3c9198e5-4178-40e7-9843-6e0036619cb6"
      },
      "source": [
        "print(df[['Name','Age']])"
      ],
      "execution_count": null,
      "outputs": [
        {
          "output_type": "stream",
          "text": [
            "        Name  Age\n",
            "0     Mukesh   37\n",
            "1     Ramesh   34\n",
            "2   Bhadresh   52\n",
            "3  Chandresh   62\n"
          ],
          "name": "stdout"
        }
      ]
    },
    {
      "cell_type": "code",
      "metadata": {
        "colab": {
          "base_uri": "https://localhost:8080/"
        },
        "id": "Xqu_NLsG_6A2",
        "outputId": "afd097ff-5392-4302-ea76-c4790cc7323b"
      },
      "source": [
        "dp = pd.DataFrame()\n",
        "print(dp)"
      ],
      "execution_count": null,
      "outputs": [
        {
          "output_type": "stream",
          "text": [
            "Empty DataFrame\n",
            "Columns: []\n",
            "Index: []\n"
          ],
          "name": "stdout"
        }
      ]
    },
    {
      "cell_type": "code",
      "metadata": {
        "colab": {
          "base_uri": "https://localhost:8080/"
        },
        "id": "fxHfYE8Q_6A4",
        "outputId": "4a6bbe47-380e-44f1-bcf4-f2ab328b8ecd"
      },
      "source": [
        "type(dp)"
      ],
      "execution_count": null,
      "outputs": [
        {
          "output_type": "execute_result",
          "data": {
            "text/plain": [
              "pandas.core.frame.DataFrame"
            ]
          },
          "metadata": {
            "tags": []
          },
          "execution_count": 10
        }
      ]
    },
    {
      "cell_type": "code",
      "metadata": {
        "id": "lBSNh1Gx_6A6"
      },
      "source": [
        ""
      ],
      "execution_count": null,
      "outputs": []
    }
  ]
}