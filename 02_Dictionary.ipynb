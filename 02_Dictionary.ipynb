{
  "nbformat": 4,
  "nbformat_minor": 0,
  "metadata": {
    "kernelspec": {
      "display_name": "Python 3",
      "language": "python",
      "name": "python3"
    },
    "language_info": {
      "codemirror_mode": {
        "name": "ipython",
        "version": 3
      },
      "file_extension": ".py",
      "mimetype": "text/x-python",
      "name": "python",
      "nbconvert_exporter": "python",
      "pygments_lexer": "ipython3",
      "version": "3.7.2"
    },
    "colab": {
      "name": "Dictionary.ipynb",
      "provenance": [],
      "include_colab_link": true
    }
  },
  "cells": [
    {
      "cell_type": "markdown",
      "metadata": {
        "id": "view-in-github",
        "colab_type": "text"
      },
      "source": [
        "<a href=\"https://colab.research.google.com/github/0701Vatsal/ML_Practicals/blob/main/Dictionary.ipynb\" target=\"_parent\"><img src=\"https://colab.research.google.com/assets/colab-badge.svg\" alt=\"Open In Colab\"/></a>"
      ]
    },
    {
      "cell_type": "code",
      "metadata": {
        "colab": {
          "base_uri": "https://localhost:8080/"
        },
        "id": "CdeN7B7kEPoy",
        "outputId": "3fce7863-70aa-4d33-df04-a85e80abd43e"
      },
      "source": [
        "a = {'vatsal':[20,5000],'yug':[21,1500],'rutul':[150,8000],20:[21,150]}\n",
        "print(a)"
      ],
      "execution_count": 12,
      "outputs": [
        {
          "output_type": "stream",
          "text": [
            "{'vatsal': [20, 5000], 'yug': [21, 1500], 'rutul': [150, 8000], 20: [21, 150]}\n"
          ],
          "name": "stdout"
        }
      ]
    },
    {
      "cell_type": "code",
      "metadata": {
        "colab": {
          "base_uri": "https://localhost:8080/"
        },
        "id": "jqDTCmxpEPpc",
        "outputId": "af112b6c-2e3f-41b7-d1cd-8cca636a596e"
      },
      "source": [
        "\n",
        "x = [11,20,33,45,54]\n",
        "y = ['A','B','C']\n",
        "mix = {'Name':y,'Age':x}\n",
        "print(mix)"
      ],
      "execution_count": 13,
      "outputs": [
        {
          "output_type": "stream",
          "text": [
            "{'Name': ['A', 'B', 'C'], 'Age': [11, 20, 33, 45, 54]}\n"
          ],
          "name": "stdout"
        }
      ]
    },
    {
      "cell_type": "code",
      "metadata": {
        "colab": {
          "base_uri": "https://localhost:8080/"
        },
        "id": "MgXYSyOrEPpg",
        "outputId": "79a0aba6-f585-414b-e48d-e23963ee2315"
      },
      "source": [
        "print(mix['Name'][1])"
      ],
      "execution_count": 14,
      "outputs": [
        {
          "output_type": "stream",
          "text": [
            "B\n"
          ],
          "name": "stdout"
        }
      ]
    },
    {
      "cell_type": "code",
      "metadata": {
        "colab": {
          "base_uri": "https://localhost:8080/"
        },
        "id": "uIMAFK3JEPpi",
        "outputId": "ca99a808-80c8-490f-a5c1-8d8cc8325345"
      },
      "source": [
        "p = (str(mix))\n",
        "print(p)"
      ],
      "execution_count": 15,
      "outputs": [
        {
          "output_type": "stream",
          "text": [
            "{'Name': ['A', 'B', 'C'], 'Age': [11, 20, 33, 45, 54]}\n"
          ],
          "name": "stdout"
        }
      ]
    },
    {
      "cell_type": "code",
      "metadata": {
        "colab": {
          "base_uri": "https://localhost:8080/"
        },
        "id": "Hrx1iLc8EPpk",
        "outputId": "22738a80-ea9c-4d42-b6b0-579bd658b371"
      },
      "source": [
        "type(p)"
      ],
      "execution_count": 16,
      "outputs": [
        {
          "output_type": "execute_result",
          "data": {
            "text/plain": [
              "str"
            ]
          },
          "metadata": {
            "tags": []
          },
          "execution_count": 16
        }
      ]
    },
    {
      "cell_type": "code",
      "metadata": {
        "colab": {
          "base_uri": "https://localhost:8080/"
        },
        "id": "RNZqslZCEPpn",
        "outputId": "973a4880-7eed-42ba-bcfe-3a2d964c428e"
      },
      "source": [
        "del(a['yug'])\n",
        "print(a)"
      ],
      "execution_count": 17,
      "outputs": [
        {
          "output_type": "stream",
          "text": [
            "{'vatsal': [20, 5000], 'rutul': [150, 8000], 20: [21, 150]}\n"
          ],
          "name": "stdout"
        }
      ]
    },
    {
      "cell_type": "code",
      "metadata": {
        "id": "vUDxUf-mEPpp"
      },
      "source": [
        ""
      ],
      "execution_count": null,
      "outputs": []
    }
  ]
}